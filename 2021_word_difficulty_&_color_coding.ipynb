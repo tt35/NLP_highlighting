{
  "nbformat": 4,
  "nbformat_minor": 0,
  "metadata": {
    "colab": {
      "name": "Summer Rerearch 2021- word difficulty & color coding.ipynb",
      "provenance": [],
      "collapsed_sections": [],
      "include_colab_link": true
    },
    "kernelspec": {
      "display_name": "Python 3",
      "name": "python3"
    },
    "language_info": {
      "name": "python"
    },
    "widgets": {
      "application/vnd.jupyter.widget-state+json": {
        "8450bea1c6bf4123b46189e5807e9239": {
          "model_module": "@jupyter-widgets/controls",
          "model_name": "HBoxModel",
          "model_module_version": "1.5.0",
          "state": {
            "_view_name": "HBoxView",
            "_dom_classes": [],
            "_model_name": "HBoxModel",
            "_view_module": "@jupyter-widgets/controls",
            "_model_module_version": "1.5.0",
            "_view_count": null,
            "_view_module_version": "1.5.0",
            "box_style": "",
            "layout": "IPY_MODEL_0bbfb2fe680e473e8ac32954e72e3189",
            "_model_module": "@jupyter-widgets/controls",
            "children": [
              "IPY_MODEL_bcae5428a4e34914bc95dcc907c00388",
              "IPY_MODEL_429de0cef58c49b791e3a8809e6ea9d9"
            ]
          }
        },
        "0bbfb2fe680e473e8ac32954e72e3189": {
          "model_module": "@jupyter-widgets/base",
          "model_name": "LayoutModel",
          "model_module_version": "1.2.0",
          "state": {
            "_view_name": "LayoutView",
            "grid_template_rows": null,
            "right": null,
            "justify_content": null,
            "_view_module": "@jupyter-widgets/base",
            "overflow": null,
            "_model_module_version": "1.2.0",
            "_view_count": null,
            "flex_flow": null,
            "width": null,
            "min_width": null,
            "border": null,
            "align_items": null,
            "bottom": null,
            "_model_module": "@jupyter-widgets/base",
            "top": null,
            "grid_column": null,
            "overflow_y": null,
            "overflow_x": null,
            "grid_auto_flow": null,
            "grid_area": null,
            "grid_template_columns": null,
            "flex": null,
            "_model_name": "LayoutModel",
            "justify_items": null,
            "grid_row": null,
            "max_height": null,
            "align_content": null,
            "visibility": null,
            "align_self": null,
            "height": null,
            "min_height": null,
            "padding": null,
            "grid_auto_rows": null,
            "grid_gap": null,
            "max_width": null,
            "order": null,
            "_view_module_version": "1.2.0",
            "grid_template_areas": null,
            "object_position": null,
            "object_fit": null,
            "grid_auto_columns": null,
            "margin": null,
            "display": null,
            "left": null
          }
        },
        "bcae5428a4e34914bc95dcc907c00388": {
          "model_module": "@jupyter-widgets/controls",
          "model_name": "FloatProgressModel",
          "model_module_version": "1.5.0",
          "state": {
            "_view_name": "ProgressView",
            "style": "IPY_MODEL_780cd0808baf4825bbbd17b7867a70c5",
            "_dom_classes": [],
            "description": "Downloading: 100%",
            "_model_name": "FloatProgressModel",
            "bar_style": "success",
            "max": 762,
            "_view_module": "@jupyter-widgets/controls",
            "_model_module_version": "1.5.0",
            "value": 762,
            "_view_count": null,
            "_view_module_version": "1.5.0",
            "orientation": "horizontal",
            "min": 0,
            "description_tooltip": null,
            "_model_module": "@jupyter-widgets/controls",
            "layout": "IPY_MODEL_69d27460ea834b1b9262d0388760b980"
          }
        },
        "429de0cef58c49b791e3a8809e6ea9d9": {
          "model_module": "@jupyter-widgets/controls",
          "model_name": "HTMLModel",
          "model_module_version": "1.5.0",
          "state": {
            "_view_name": "HTMLView",
            "style": "IPY_MODEL_202611d3dbe34f648ef5087f7786d1da",
            "_dom_classes": [],
            "description": "",
            "_model_name": "HTMLModel",
            "placeholder": "​",
            "_view_module": "@jupyter-widgets/controls",
            "_model_module_version": "1.5.0",
            "value": " 762/762 [00:00&lt;00:00, 7.75kB/s]",
            "_view_count": null,
            "_view_module_version": "1.5.0",
            "description_tooltip": null,
            "_model_module": "@jupyter-widgets/controls",
            "layout": "IPY_MODEL_f5a87d5e441246e0a41fb522df26bf2e"
          }
        },
        "780cd0808baf4825bbbd17b7867a70c5": {
          "model_module": "@jupyter-widgets/controls",
          "model_name": "ProgressStyleModel",
          "model_module_version": "1.5.0",
          "state": {
            "_view_name": "StyleView",
            "_model_name": "ProgressStyleModel",
            "description_width": "initial",
            "_view_module": "@jupyter-widgets/base",
            "_model_module_version": "1.5.0",
            "_view_count": null,
            "_view_module_version": "1.2.0",
            "bar_color": null,
            "_model_module": "@jupyter-widgets/controls"
          }
        },
        "69d27460ea834b1b9262d0388760b980": {
          "model_module": "@jupyter-widgets/base",
          "model_name": "LayoutModel",
          "model_module_version": "1.2.0",
          "state": {
            "_view_name": "LayoutView",
            "grid_template_rows": null,
            "right": null,
            "justify_content": null,
            "_view_module": "@jupyter-widgets/base",
            "overflow": null,
            "_model_module_version": "1.2.0",
            "_view_count": null,
            "flex_flow": null,
            "width": null,
            "min_width": null,
            "border": null,
            "align_items": null,
            "bottom": null,
            "_model_module": "@jupyter-widgets/base",
            "top": null,
            "grid_column": null,
            "overflow_y": null,
            "overflow_x": null,
            "grid_auto_flow": null,
            "grid_area": null,
            "grid_template_columns": null,
            "flex": null,
            "_model_name": "LayoutModel",
            "justify_items": null,
            "grid_row": null,
            "max_height": null,
            "align_content": null,
            "visibility": null,
            "align_self": null,
            "height": null,
            "min_height": null,
            "padding": null,
            "grid_auto_rows": null,
            "grid_gap": null,
            "max_width": null,
            "order": null,
            "_view_module_version": "1.2.0",
            "grid_template_areas": null,
            "object_position": null,
            "object_fit": null,
            "grid_auto_columns": null,
            "margin": null,
            "display": null,
            "left": null
          }
        },
        "202611d3dbe34f648ef5087f7786d1da": {
          "model_module": "@jupyter-widgets/controls",
          "model_name": "DescriptionStyleModel",
          "model_module_version": "1.5.0",
          "state": {
            "_view_name": "StyleView",
            "_model_name": "DescriptionStyleModel",
            "description_width": "",
            "_view_module": "@jupyter-widgets/base",
            "_model_module_version": "1.5.0",
            "_view_count": null,
            "_view_module_version": "1.2.0",
            "_model_module": "@jupyter-widgets/controls"
          }
        },
        "f5a87d5e441246e0a41fb522df26bf2e": {
          "model_module": "@jupyter-widgets/base",
          "model_name": "LayoutModel",
          "model_module_version": "1.2.0",
          "state": {
            "_view_name": "LayoutView",
            "grid_template_rows": null,
            "right": null,
            "justify_content": null,
            "_view_module": "@jupyter-widgets/base",
            "overflow": null,
            "_model_module_version": "1.2.0",
            "_view_count": null,
            "flex_flow": null,
            "width": null,
            "min_width": null,
            "border": null,
            "align_items": null,
            "bottom": null,
            "_model_module": "@jupyter-widgets/base",
            "top": null,
            "grid_column": null,
            "overflow_y": null,
            "overflow_x": null,
            "grid_auto_flow": null,
            "grid_area": null,
            "grid_template_columns": null,
            "flex": null,
            "_model_name": "LayoutModel",
            "justify_items": null,
            "grid_row": null,
            "max_height": null,
            "align_content": null,
            "visibility": null,
            "align_self": null,
            "height": null,
            "min_height": null,
            "padding": null,
            "grid_auto_rows": null,
            "grid_gap": null,
            "max_width": null,
            "order": null,
            "_view_module_version": "1.2.0",
            "grid_template_areas": null,
            "object_position": null,
            "object_fit": null,
            "grid_auto_columns": null,
            "margin": null,
            "display": null,
            "left": null
          }
        },
        "2c1e43ce49e64f21a7a638a255bc9f5b": {
          "model_module": "@jupyter-widgets/controls",
          "model_name": "HBoxModel",
          "model_module_version": "1.5.0",
          "state": {
            "_view_name": "HBoxView",
            "_dom_classes": [],
            "_model_name": "HBoxModel",
            "_view_module": "@jupyter-widgets/controls",
            "_model_module_version": "1.5.0",
            "_view_count": null,
            "_view_module_version": "1.5.0",
            "box_style": "",
            "layout": "IPY_MODEL_7398dcdeda944407b46def0ce4eedcad",
            "_model_module": "@jupyter-widgets/controls",
            "children": [
              "IPY_MODEL_684d069800b94c7badcedd0e96c9de7f",
              "IPY_MODEL_a09237b1caa541a296a55b9300d64699"
            ]
          }
        },
        "7398dcdeda944407b46def0ce4eedcad": {
          "model_module": "@jupyter-widgets/base",
          "model_name": "LayoutModel",
          "model_module_version": "1.2.0",
          "state": {
            "_view_name": "LayoutView",
            "grid_template_rows": null,
            "right": null,
            "justify_content": null,
            "_view_module": "@jupyter-widgets/base",
            "overflow": null,
            "_model_module_version": "1.2.0",
            "_view_count": null,
            "flex_flow": null,
            "width": null,
            "min_width": null,
            "border": null,
            "align_items": null,
            "bottom": null,
            "_model_module": "@jupyter-widgets/base",
            "top": null,
            "grid_column": null,
            "overflow_y": null,
            "overflow_x": null,
            "grid_auto_flow": null,
            "grid_area": null,
            "grid_template_columns": null,
            "flex": null,
            "_model_name": "LayoutModel",
            "justify_items": null,
            "grid_row": null,
            "max_height": null,
            "align_content": null,
            "visibility": null,
            "align_self": null,
            "height": null,
            "min_height": null,
            "padding": null,
            "grid_auto_rows": null,
            "grid_gap": null,
            "max_width": null,
            "order": null,
            "_view_module_version": "1.2.0",
            "grid_template_areas": null,
            "object_position": null,
            "object_fit": null,
            "grid_auto_columns": null,
            "margin": null,
            "display": null,
            "left": null
          }
        },
        "684d069800b94c7badcedd0e96c9de7f": {
          "model_module": "@jupyter-widgets/controls",
          "model_name": "FloatProgressModel",
          "model_module_version": "1.5.0",
          "state": {
            "_view_name": "ProgressView",
            "style": "IPY_MODEL_93212554971246da81c44286cdcb1ae2",
            "_dom_classes": [],
            "description": "Downloading: 100%",
            "_model_name": "FloatProgressModel",
            "bar_style": "success",
            "max": 1042301,
            "_view_module": "@jupyter-widgets/controls",
            "_model_module_version": "1.5.0",
            "value": 1042301,
            "_view_count": null,
            "_view_module_version": "1.5.0",
            "orientation": "horizontal",
            "min": 0,
            "description_tooltip": null,
            "_model_module": "@jupyter-widgets/controls",
            "layout": "IPY_MODEL_aeb166081c68479186c892c79949a689"
          }
        },
        "a09237b1caa541a296a55b9300d64699": {
          "model_module": "@jupyter-widgets/controls",
          "model_name": "HTMLModel",
          "model_module_version": "1.5.0",
          "state": {
            "_view_name": "HTMLView",
            "style": "IPY_MODEL_9c4a4825c34e4a95b58a843720966f1e",
            "_dom_classes": [],
            "description": "",
            "_model_name": "HTMLModel",
            "placeholder": "​",
            "_view_module": "@jupyter-widgets/controls",
            "_model_module_version": "1.5.0",
            "value": " 1.04M/1.04M [00:00&lt;00:00, 3.36MB/s]",
            "_view_count": null,
            "_view_module_version": "1.5.0",
            "description_tooltip": null,
            "_model_module": "@jupyter-widgets/controls",
            "layout": "IPY_MODEL_93820ea2bf784f6495a2cba497750115"
          }
        },
        "93212554971246da81c44286cdcb1ae2": {
          "model_module": "@jupyter-widgets/controls",
          "model_name": "ProgressStyleModel",
          "model_module_version": "1.5.0",
          "state": {
            "_view_name": "StyleView",
            "_model_name": "ProgressStyleModel",
            "description_width": "initial",
            "_view_module": "@jupyter-widgets/base",
            "_model_module_version": "1.5.0",
            "_view_count": null,
            "_view_module_version": "1.2.0",
            "bar_color": null,
            "_model_module": "@jupyter-widgets/controls"
          }
        },
        "aeb166081c68479186c892c79949a689": {
          "model_module": "@jupyter-widgets/base",
          "model_name": "LayoutModel",
          "model_module_version": "1.2.0",
          "state": {
            "_view_name": "LayoutView",
            "grid_template_rows": null,
            "right": null,
            "justify_content": null,
            "_view_module": "@jupyter-widgets/base",
            "overflow": null,
            "_model_module_version": "1.2.0",
            "_view_count": null,
            "flex_flow": null,
            "width": null,
            "min_width": null,
            "border": null,
            "align_items": null,
            "bottom": null,
            "_model_module": "@jupyter-widgets/base",
            "top": null,
            "grid_column": null,
            "overflow_y": null,
            "overflow_x": null,
            "grid_auto_flow": null,
            "grid_area": null,
            "grid_template_columns": null,
            "flex": null,
            "_model_name": "LayoutModel",
            "justify_items": null,
            "grid_row": null,
            "max_height": null,
            "align_content": null,
            "visibility": null,
            "align_self": null,
            "height": null,
            "min_height": null,
            "padding": null,
            "grid_auto_rows": null,
            "grid_gap": null,
            "max_width": null,
            "order": null,
            "_view_module_version": "1.2.0",
            "grid_template_areas": null,
            "object_position": null,
            "object_fit": null,
            "grid_auto_columns": null,
            "margin": null,
            "display": null,
            "left": null
          }
        },
        "9c4a4825c34e4a95b58a843720966f1e": {
          "model_module": "@jupyter-widgets/controls",
          "model_name": "DescriptionStyleModel",
          "model_module_version": "1.5.0",
          "state": {
            "_view_name": "StyleView",
            "_model_name": "DescriptionStyleModel",
            "description_width": "",
            "_view_module": "@jupyter-widgets/base",
            "_model_module_version": "1.5.0",
            "_view_count": null,
            "_view_module_version": "1.2.0",
            "_model_module": "@jupyter-widgets/controls"
          }
        },
        "93820ea2bf784f6495a2cba497750115": {
          "model_module": "@jupyter-widgets/base",
          "model_name": "LayoutModel",
          "model_module_version": "1.2.0",
          "state": {
            "_view_name": "LayoutView",
            "grid_template_rows": null,
            "right": null,
            "justify_content": null,
            "_view_module": "@jupyter-widgets/base",
            "overflow": null,
            "_model_module_version": "1.2.0",
            "_view_count": null,
            "flex_flow": null,
            "width": null,
            "min_width": null,
            "border": null,
            "align_items": null,
            "bottom": null,
            "_model_module": "@jupyter-widgets/base",
            "top": null,
            "grid_column": null,
            "overflow_y": null,
            "overflow_x": null,
            "grid_auto_flow": null,
            "grid_area": null,
            "grid_template_columns": null,
            "flex": null,
            "_model_name": "LayoutModel",
            "justify_items": null,
            "grid_row": null,
            "max_height": null,
            "align_content": null,
            "visibility": null,
            "align_self": null,
            "height": null,
            "min_height": null,
            "padding": null,
            "grid_auto_rows": null,
            "grid_gap": null,
            "max_width": null,
            "order": null,
            "_view_module_version": "1.2.0",
            "grid_template_areas": null,
            "object_position": null,
            "object_fit": null,
            "grid_auto_columns": null,
            "margin": null,
            "display": null,
            "left": null
          }
        },
        "0ac74ff979c74dbfa12792f945a8644f": {
          "model_module": "@jupyter-widgets/controls",
          "model_name": "HBoxModel",
          "model_module_version": "1.5.0",
          "state": {
            "_view_name": "HBoxView",
            "_dom_classes": [],
            "_model_name": "HBoxModel",
            "_view_module": "@jupyter-widgets/controls",
            "_model_module_version": "1.5.0",
            "_view_count": null,
            "_view_module_version": "1.5.0",
            "box_style": "",
            "layout": "IPY_MODEL_47b558a01b9741d6a0c8d1e3dd48537d",
            "_model_module": "@jupyter-widgets/controls",
            "children": [
              "IPY_MODEL_8f9a5f79e63c41779c686357f038812a",
              "IPY_MODEL_b191bb1f87fe49a09b1c9f4af385b9d6"
            ]
          }
        },
        "47b558a01b9741d6a0c8d1e3dd48537d": {
          "model_module": "@jupyter-widgets/base",
          "model_name": "LayoutModel",
          "model_module_version": "1.2.0",
          "state": {
            "_view_name": "LayoutView",
            "grid_template_rows": null,
            "right": null,
            "justify_content": null,
            "_view_module": "@jupyter-widgets/base",
            "overflow": null,
            "_model_module_version": "1.2.0",
            "_view_count": null,
            "flex_flow": null,
            "width": null,
            "min_width": null,
            "border": null,
            "align_items": null,
            "bottom": null,
            "_model_module": "@jupyter-widgets/base",
            "top": null,
            "grid_column": null,
            "overflow_y": null,
            "overflow_x": null,
            "grid_auto_flow": null,
            "grid_area": null,
            "grid_template_columns": null,
            "flex": null,
            "_model_name": "LayoutModel",
            "justify_items": null,
            "grid_row": null,
            "max_height": null,
            "align_content": null,
            "visibility": null,
            "align_self": null,
            "height": null,
            "min_height": null,
            "padding": null,
            "grid_auto_rows": null,
            "grid_gap": null,
            "max_width": null,
            "order": null,
            "_view_module_version": "1.2.0",
            "grid_template_areas": null,
            "object_position": null,
            "object_fit": null,
            "grid_auto_columns": null,
            "margin": null,
            "display": null,
            "left": null
          }
        },
        "8f9a5f79e63c41779c686357f038812a": {
          "model_module": "@jupyter-widgets/controls",
          "model_name": "FloatProgressModel",
          "model_module_version": "1.5.0",
          "state": {
            "_view_name": "ProgressView",
            "style": "IPY_MODEL_ac044b729c954fcaad55b4fbc2dd847b",
            "_dom_classes": [],
            "description": "Downloading: 100%",
            "_model_name": "FloatProgressModel",
            "bar_style": "success",
            "max": 456318,
            "_view_module": "@jupyter-widgets/controls",
            "_model_module_version": "1.5.0",
            "value": 456318,
            "_view_count": null,
            "_view_module_version": "1.5.0",
            "orientation": "horizontal",
            "min": 0,
            "description_tooltip": null,
            "_model_module": "@jupyter-widgets/controls",
            "layout": "IPY_MODEL_6f3c933fab194dc7883c0d626153bbce"
          }
        },
        "b191bb1f87fe49a09b1c9f4af385b9d6": {
          "model_module": "@jupyter-widgets/controls",
          "model_name": "HTMLModel",
          "model_module_version": "1.5.0",
          "state": {
            "_view_name": "HTMLView",
            "style": "IPY_MODEL_45f88e5726cf4fc6a647123f1c2e1f97",
            "_dom_classes": [],
            "description": "",
            "_model_name": "HTMLModel",
            "placeholder": "​",
            "_view_module": "@jupyter-widgets/controls",
            "_model_module_version": "1.5.0",
            "value": " 456k/456k [00:00&lt;00:00, 2.91MB/s]",
            "_view_count": null,
            "_view_module_version": "1.5.0",
            "description_tooltip": null,
            "_model_module": "@jupyter-widgets/controls",
            "layout": "IPY_MODEL_8e1a03ce5b6e44e4a366867f1d039def"
          }
        },
        "ac044b729c954fcaad55b4fbc2dd847b": {
          "model_module": "@jupyter-widgets/controls",
          "model_name": "ProgressStyleModel",
          "model_module_version": "1.5.0",
          "state": {
            "_view_name": "StyleView",
            "_model_name": "ProgressStyleModel",
            "description_width": "initial",
            "_view_module": "@jupyter-widgets/base",
            "_model_module_version": "1.5.0",
            "_view_count": null,
            "_view_module_version": "1.2.0",
            "bar_color": null,
            "_model_module": "@jupyter-widgets/controls"
          }
        },
        "6f3c933fab194dc7883c0d626153bbce": {
          "model_module": "@jupyter-widgets/base",
          "model_name": "LayoutModel",
          "model_module_version": "1.2.0",
          "state": {
            "_view_name": "LayoutView",
            "grid_template_rows": null,
            "right": null,
            "justify_content": null,
            "_view_module": "@jupyter-widgets/base",
            "overflow": null,
            "_model_module_version": "1.2.0",
            "_view_count": null,
            "flex_flow": null,
            "width": null,
            "min_width": null,
            "border": null,
            "align_items": null,
            "bottom": null,
            "_model_module": "@jupyter-widgets/base",
            "top": null,
            "grid_column": null,
            "overflow_y": null,
            "overflow_x": null,
            "grid_auto_flow": null,
            "grid_area": null,
            "grid_template_columns": null,
            "flex": null,
            "_model_name": "LayoutModel",
            "justify_items": null,
            "grid_row": null,
            "max_height": null,
            "align_content": null,
            "visibility": null,
            "align_self": null,
            "height": null,
            "min_height": null,
            "padding": null,
            "grid_auto_rows": null,
            "grid_gap": null,
            "max_width": null,
            "order": null,
            "_view_module_version": "1.2.0",
            "grid_template_areas": null,
            "object_position": null,
            "object_fit": null,
            "grid_auto_columns": null,
            "margin": null,
            "display": null,
            "left": null
          }
        },
        "45f88e5726cf4fc6a647123f1c2e1f97": {
          "model_module": "@jupyter-widgets/controls",
          "model_name": "DescriptionStyleModel",
          "model_module_version": "1.5.0",
          "state": {
            "_view_name": "StyleView",
            "_model_name": "DescriptionStyleModel",
            "description_width": "",
            "_view_module": "@jupyter-widgets/base",
            "_model_module_version": "1.5.0",
            "_view_count": null,
            "_view_module_version": "1.2.0",
            "_model_module": "@jupyter-widgets/controls"
          }
        },
        "8e1a03ce5b6e44e4a366867f1d039def": {
          "model_module": "@jupyter-widgets/base",
          "model_name": "LayoutModel",
          "model_module_version": "1.2.0",
          "state": {
            "_view_name": "LayoutView",
            "grid_template_rows": null,
            "right": null,
            "justify_content": null,
            "_view_module": "@jupyter-widgets/base",
            "overflow": null,
            "_model_module_version": "1.2.0",
            "_view_count": null,
            "flex_flow": null,
            "width": null,
            "min_width": null,
            "border": null,
            "align_items": null,
            "bottom": null,
            "_model_module": "@jupyter-widgets/base",
            "top": null,
            "grid_column": null,
            "overflow_y": null,
            "overflow_x": null,
            "grid_auto_flow": null,
            "grid_area": null,
            "grid_template_columns": null,
            "flex": null,
            "_model_name": "LayoutModel",
            "justify_items": null,
            "grid_row": null,
            "max_height": null,
            "align_content": null,
            "visibility": null,
            "align_self": null,
            "height": null,
            "min_height": null,
            "padding": null,
            "grid_auto_rows": null,
            "grid_gap": null,
            "max_width": null,
            "order": null,
            "_view_module_version": "1.2.0",
            "grid_template_areas": null,
            "object_position": null,
            "object_fit": null,
            "grid_auto_columns": null,
            "margin": null,
            "display": null,
            "left": null
          }
        },
        "9efc87678f5e42e3a7cd9eb4fd5ba29e": {
          "model_module": "@jupyter-widgets/controls",
          "model_name": "HBoxModel",
          "model_module_version": "1.5.0",
          "state": {
            "_view_name": "HBoxView",
            "_dom_classes": [],
            "_model_name": "HBoxModel",
            "_view_module": "@jupyter-widgets/controls",
            "_model_module_version": "1.5.0",
            "_view_count": null,
            "_view_module_version": "1.5.0",
            "box_style": "",
            "layout": "IPY_MODEL_ce1175571418400b82f2eeae00464d0f",
            "_model_module": "@jupyter-widgets/controls",
            "children": [
              "IPY_MODEL_c9948836dedd433399941643072d7d42",
              "IPY_MODEL_b9fe4b380a804678a0eedcf97d15a508"
            ]
          }
        },
        "ce1175571418400b82f2eeae00464d0f": {
          "model_module": "@jupyter-widgets/base",
          "model_name": "LayoutModel",
          "model_module_version": "1.2.0",
          "state": {
            "_view_name": "LayoutView",
            "grid_template_rows": null,
            "right": null,
            "justify_content": null,
            "_view_module": "@jupyter-widgets/base",
            "overflow": null,
            "_model_module_version": "1.2.0",
            "_view_count": null,
            "flex_flow": null,
            "width": null,
            "min_width": null,
            "border": null,
            "align_items": null,
            "bottom": null,
            "_model_module": "@jupyter-widgets/base",
            "top": null,
            "grid_column": null,
            "overflow_y": null,
            "overflow_x": null,
            "grid_auto_flow": null,
            "grid_area": null,
            "grid_template_columns": null,
            "flex": null,
            "_model_name": "LayoutModel",
            "justify_items": null,
            "grid_row": null,
            "max_height": null,
            "align_content": null,
            "visibility": null,
            "align_self": null,
            "height": null,
            "min_height": null,
            "padding": null,
            "grid_auto_rows": null,
            "grid_gap": null,
            "max_width": null,
            "order": null,
            "_view_module_version": "1.2.0",
            "grid_template_areas": null,
            "object_position": null,
            "object_fit": null,
            "grid_auto_columns": null,
            "margin": null,
            "display": null,
            "left": null
          }
        },
        "c9948836dedd433399941643072d7d42": {
          "model_module": "@jupyter-widgets/controls",
          "model_name": "FloatProgressModel",
          "model_module_version": "1.5.0",
          "state": {
            "_view_name": "ProgressView",
            "style": "IPY_MODEL_3fa68bfaacc54c18a06ae1c8356bac0e",
            "_dom_classes": [],
            "description": "Downloading: 100%",
            "_model_name": "FloatProgressModel",
            "bar_style": "success",
            "max": 1355256,
            "_view_module": "@jupyter-widgets/controls",
            "_model_module_version": "1.5.0",
            "value": 1355256,
            "_view_count": null,
            "_view_module_version": "1.5.0",
            "orientation": "horizontal",
            "min": 0,
            "description_tooltip": null,
            "_model_module": "@jupyter-widgets/controls",
            "layout": "IPY_MODEL_40fb48208fbe46b2b79adec37b0ca80e"
          }
        },
        "b9fe4b380a804678a0eedcf97d15a508": {
          "model_module": "@jupyter-widgets/controls",
          "model_name": "HTMLModel",
          "model_module_version": "1.5.0",
          "state": {
            "_view_name": "HTMLView",
            "style": "IPY_MODEL_e2a6991228824260bdb27297f6507146",
            "_dom_classes": [],
            "description": "",
            "_model_name": "HTMLModel",
            "placeholder": "​",
            "_view_module": "@jupyter-widgets/controls",
            "_model_module_version": "1.5.0",
            "value": " 1.36M/1.36M [00:10&lt;00:00, 127kB/s]",
            "_view_count": null,
            "_view_module_version": "1.5.0",
            "description_tooltip": null,
            "_model_module": "@jupyter-widgets/controls",
            "layout": "IPY_MODEL_2a87397880a04c04baa10d9dac8ce96d"
          }
        },
        "3fa68bfaacc54c18a06ae1c8356bac0e": {
          "model_module": "@jupyter-widgets/controls",
          "model_name": "ProgressStyleModel",
          "model_module_version": "1.5.0",
          "state": {
            "_view_name": "StyleView",
            "_model_name": "ProgressStyleModel",
            "description_width": "initial",
            "_view_module": "@jupyter-widgets/base",
            "_model_module_version": "1.5.0",
            "_view_count": null,
            "_view_module_version": "1.2.0",
            "bar_color": null,
            "_model_module": "@jupyter-widgets/controls"
          }
        },
        "40fb48208fbe46b2b79adec37b0ca80e": {
          "model_module": "@jupyter-widgets/base",
          "model_name": "LayoutModel",
          "model_module_version": "1.2.0",
          "state": {
            "_view_name": "LayoutView",
            "grid_template_rows": null,
            "right": null,
            "justify_content": null,
            "_view_module": "@jupyter-widgets/base",
            "overflow": null,
            "_model_module_version": "1.2.0",
            "_view_count": null,
            "flex_flow": null,
            "width": null,
            "min_width": null,
            "border": null,
            "align_items": null,
            "bottom": null,
            "_model_module": "@jupyter-widgets/base",
            "top": null,
            "grid_column": null,
            "overflow_y": null,
            "overflow_x": null,
            "grid_auto_flow": null,
            "grid_area": null,
            "grid_template_columns": null,
            "flex": null,
            "_model_name": "LayoutModel",
            "justify_items": null,
            "grid_row": null,
            "max_height": null,
            "align_content": null,
            "visibility": null,
            "align_self": null,
            "height": null,
            "min_height": null,
            "padding": null,
            "grid_auto_rows": null,
            "grid_gap": null,
            "max_width": null,
            "order": null,
            "_view_module_version": "1.2.0",
            "grid_template_areas": null,
            "object_position": null,
            "object_fit": null,
            "grid_auto_columns": null,
            "margin": null,
            "display": null,
            "left": null
          }
        },
        "e2a6991228824260bdb27297f6507146": {
          "model_module": "@jupyter-widgets/controls",
          "model_name": "DescriptionStyleModel",
          "model_module_version": "1.5.0",
          "state": {
            "_view_name": "StyleView",
            "_model_name": "DescriptionStyleModel",
            "description_width": "",
            "_view_module": "@jupyter-widgets/base",
            "_model_module_version": "1.5.0",
            "_view_count": null,
            "_view_module_version": "1.2.0",
            "_model_module": "@jupyter-widgets/controls"
          }
        },
        "2a87397880a04c04baa10d9dac8ce96d": {
          "model_module": "@jupyter-widgets/base",
          "model_name": "LayoutModel",
          "model_module_version": "1.2.0",
          "state": {
            "_view_name": "LayoutView",
            "grid_template_rows": null,
            "right": null,
            "justify_content": null,
            "_view_module": "@jupyter-widgets/base",
            "overflow": null,
            "_model_module_version": "1.2.0",
            "_view_count": null,
            "flex_flow": null,
            "width": null,
            "min_width": null,
            "border": null,
            "align_items": null,
            "bottom": null,
            "_model_module": "@jupyter-widgets/base",
            "top": null,
            "grid_column": null,
            "overflow_y": null,
            "overflow_x": null,
            "grid_auto_flow": null,
            "grid_area": null,
            "grid_template_columns": null,
            "flex": null,
            "_model_name": "LayoutModel",
            "justify_items": null,
            "grid_row": null,
            "max_height": null,
            "align_content": null,
            "visibility": null,
            "align_self": null,
            "height": null,
            "min_height": null,
            "padding": null,
            "grid_auto_rows": null,
            "grid_gap": null,
            "max_width": null,
            "order": null,
            "_view_module_version": "1.2.0",
            "grid_template_areas": null,
            "object_position": null,
            "object_fit": null,
            "grid_auto_columns": null,
            "margin": null,
            "display": null,
            "left": null
          }
        },
        "00a647fc1bc344d8a072beab98b8222a": {
          "model_module": "@jupyter-widgets/controls",
          "model_name": "HBoxModel",
          "model_module_version": "1.5.0",
          "state": {
            "_view_name": "HBoxView",
            "_dom_classes": [],
            "_model_name": "HBoxModel",
            "_view_module": "@jupyter-widgets/controls",
            "_model_module_version": "1.5.0",
            "_view_count": null,
            "_view_module_version": "1.5.0",
            "box_style": "",
            "layout": "IPY_MODEL_d4bd5cb2a1a849208205ec3af2d4a733",
            "_model_module": "@jupyter-widgets/controls",
            "children": [
              "IPY_MODEL_ed94c0f361f24982935f4e09cdf21f83",
              "IPY_MODEL_ed2d7a60b2f54e3b9a6de7d121f8117c"
            ]
          }
        },
        "d4bd5cb2a1a849208205ec3af2d4a733": {
          "model_module": "@jupyter-widgets/base",
          "model_name": "LayoutModel",
          "model_module_version": "1.2.0",
          "state": {
            "_view_name": "LayoutView",
            "grid_template_rows": null,
            "right": null,
            "justify_content": null,
            "_view_module": "@jupyter-widgets/base",
            "overflow": null,
            "_model_module_version": "1.2.0",
            "_view_count": null,
            "flex_flow": null,
            "width": null,
            "min_width": null,
            "border": null,
            "align_items": null,
            "bottom": null,
            "_model_module": "@jupyter-widgets/base",
            "top": null,
            "grid_column": null,
            "overflow_y": null,
            "overflow_x": null,
            "grid_auto_flow": null,
            "grid_area": null,
            "grid_template_columns": null,
            "flex": null,
            "_model_name": "LayoutModel",
            "justify_items": null,
            "grid_row": null,
            "max_height": null,
            "align_content": null,
            "visibility": null,
            "align_self": null,
            "height": null,
            "min_height": null,
            "padding": null,
            "grid_auto_rows": null,
            "grid_gap": null,
            "max_width": null,
            "order": null,
            "_view_module_version": "1.2.0",
            "grid_template_areas": null,
            "object_position": null,
            "object_fit": null,
            "grid_auto_columns": null,
            "margin": null,
            "display": null,
            "left": null
          }
        },
        "ed94c0f361f24982935f4e09cdf21f83": {
          "model_module": "@jupyter-widgets/controls",
          "model_name": "FloatProgressModel",
          "model_module_version": "1.5.0",
          "state": {
            "_view_name": "ProgressView",
            "style": "IPY_MODEL_92589be415114399bcc7c2bb19182077",
            "_dom_classes": [],
            "description": "Downloading: 100%",
            "_model_name": "FloatProgressModel",
            "bar_style": "success",
            "max": 352833716,
            "_view_module": "@jupyter-widgets/controls",
            "_model_module_version": "1.5.0",
            "value": 352833716,
            "_view_count": null,
            "_view_module_version": "1.5.0",
            "orientation": "horizontal",
            "min": 0,
            "description_tooltip": null,
            "_model_module": "@jupyter-widgets/controls",
            "layout": "IPY_MODEL_f2856c233ca84a409f2e1bcf155474d2"
          }
        },
        "ed2d7a60b2f54e3b9a6de7d121f8117c": {
          "model_module": "@jupyter-widgets/controls",
          "model_name": "HTMLModel",
          "model_module_version": "1.5.0",
          "state": {
            "_view_name": "HTMLView",
            "style": "IPY_MODEL_5606ef428eb04bbeb4db554d185db616",
            "_dom_classes": [],
            "description": "",
            "_model_name": "HTMLModel",
            "placeholder": "​",
            "_view_module": "@jupyter-widgets/controls",
            "_model_module_version": "1.5.0",
            "value": " 353M/353M [00:10&lt;00:00, 35.0MB/s]",
            "_view_count": null,
            "_view_module_version": "1.5.0",
            "description_tooltip": null,
            "_model_module": "@jupyter-widgets/controls",
            "layout": "IPY_MODEL_679d64f705184494b5bcf85989e46a92"
          }
        },
        "92589be415114399bcc7c2bb19182077": {
          "model_module": "@jupyter-widgets/controls",
          "model_name": "ProgressStyleModel",
          "model_module_version": "1.5.0",
          "state": {
            "_view_name": "StyleView",
            "_model_name": "ProgressStyleModel",
            "description_width": "initial",
            "_view_module": "@jupyter-widgets/base",
            "_model_module_version": "1.5.0",
            "_view_count": null,
            "_view_module_version": "1.2.0",
            "bar_color": null,
            "_model_module": "@jupyter-widgets/controls"
          }
        },
        "f2856c233ca84a409f2e1bcf155474d2": {
          "model_module": "@jupyter-widgets/base",
          "model_name": "LayoutModel",
          "model_module_version": "1.2.0",
          "state": {
            "_view_name": "LayoutView",
            "grid_template_rows": null,
            "right": null,
            "justify_content": null,
            "_view_module": "@jupyter-widgets/base",
            "overflow": null,
            "_model_module_version": "1.2.0",
            "_view_count": null,
            "flex_flow": null,
            "width": null,
            "min_width": null,
            "border": null,
            "align_items": null,
            "bottom": null,
            "_model_module": "@jupyter-widgets/base",
            "top": null,
            "grid_column": null,
            "overflow_y": null,
            "overflow_x": null,
            "grid_auto_flow": null,
            "grid_area": null,
            "grid_template_columns": null,
            "flex": null,
            "_model_name": "LayoutModel",
            "justify_items": null,
            "grid_row": null,
            "max_height": null,
            "align_content": null,
            "visibility": null,
            "align_self": null,
            "height": null,
            "min_height": null,
            "padding": null,
            "grid_auto_rows": null,
            "grid_gap": null,
            "max_width": null,
            "order": null,
            "_view_module_version": "1.2.0",
            "grid_template_areas": null,
            "object_position": null,
            "object_fit": null,
            "grid_auto_columns": null,
            "margin": null,
            "display": null,
            "left": null
          }
        },
        "5606ef428eb04bbeb4db554d185db616": {
          "model_module": "@jupyter-widgets/controls",
          "model_name": "DescriptionStyleModel",
          "model_module_version": "1.5.0",
          "state": {
            "_view_name": "StyleView",
            "_model_name": "DescriptionStyleModel",
            "description_width": "",
            "_view_module": "@jupyter-widgets/base",
            "_model_module_version": "1.5.0",
            "_view_count": null,
            "_view_module_version": "1.2.0",
            "_model_module": "@jupyter-widgets/controls"
          }
        },
        "679d64f705184494b5bcf85989e46a92": {
          "model_module": "@jupyter-widgets/base",
          "model_name": "LayoutModel",
          "model_module_version": "1.2.0",
          "state": {
            "_view_name": "LayoutView",
            "grid_template_rows": null,
            "right": null,
            "justify_content": null,
            "_view_module": "@jupyter-widgets/base",
            "overflow": null,
            "_model_module_version": "1.2.0",
            "_view_count": null,
            "flex_flow": null,
            "width": null,
            "min_width": null,
            "border": null,
            "align_items": null,
            "bottom": null,
            "_model_module": "@jupyter-widgets/base",
            "top": null,
            "grid_column": null,
            "overflow_y": null,
            "overflow_x": null,
            "grid_auto_flow": null,
            "grid_area": null,
            "grid_template_columns": null,
            "flex": null,
            "_model_name": "LayoutModel",
            "justify_items": null,
            "grid_row": null,
            "max_height": null,
            "align_content": null,
            "visibility": null,
            "align_self": null,
            "height": null,
            "min_height": null,
            "padding": null,
            "grid_auto_rows": null,
            "grid_gap": null,
            "max_width": null,
            "order": null,
            "_view_module_version": "1.2.0",
            "grid_template_areas": null,
            "object_position": null,
            "object_fit": null,
            "grid_auto_columns": null,
            "margin": null,
            "display": null,
            "left": null
          }
        }
      }
    }
  },
  "cells": [
    {
      "cell_type": "markdown",
      "metadata": {
        "id": "view-in-github",
        "colab_type": "text"
      },
      "source": [
        "<a href=\"https://colab.research.google.com/github/tt35/NLP_highlighting/blob/main/2021_word_difficulty_%26_color_coding.ipynb\" target=\"_parent\"><img src=\"https://colab.research.google.com/assets/colab-badge.svg\" alt=\"Open In Colab\"/></a>"
      ]
    },
    {
      "cell_type": "markdown",
      "metadata": {
        "id": "3L7JEJDjrXUy"
      },
      "source": [
        "## Highlighting words based on the difficulty of the words in the context."
      ]
    },
    {
      "cell_type": "code",
      "metadata": {
        "colab": {
          "base_uri": "https://localhost:8080/"
        },
        "id": "XNYCCb3BPPkF",
        "outputId": "c09f39a6-2198-4efa-d978-822affa46777"
      },
      "source": [
        "!pip install transformers "
      ],
      "execution_count": null,
      "outputs": [
        {
          "output_type": "stream",
          "text": [
            "Collecting transformers\n",
            "  Downloading transformers-4.9.2-py3-none-any.whl (2.6 MB)\n",
            "\u001b[K     |████████████████████████████████| 2.6 MB 21.8 MB/s \n",
            "\u001b[?25hRequirement already satisfied: regex!=2019.12.17 in /usr/local/lib/python3.7/dist-packages (from transformers) (2019.12.20)\n",
            "Requirement already satisfied: requests in /usr/local/lib/python3.7/dist-packages (from transformers) (2.23.0)\n",
            "Collecting pyyaml>=5.1\n",
            "  Downloading PyYAML-5.4.1-cp37-cp37m-manylinux1_x86_64.whl (636 kB)\n",
            "\u001b[K     |████████████████████████████████| 636 kB 39.3 MB/s \n",
            "\u001b[?25hRequirement already satisfied: numpy>=1.17 in /usr/local/lib/python3.7/dist-packages (from transformers) (1.19.5)\n",
            "Requirement already satisfied: packaging in /usr/local/lib/python3.7/dist-packages (from transformers) (21.0)\n",
            "Requirement already satisfied: filelock in /usr/local/lib/python3.7/dist-packages (from transformers) (3.0.12)\n",
            "Requirement already satisfied: tqdm>=4.27 in /usr/local/lib/python3.7/dist-packages (from transformers) (4.41.1)\n",
            "Collecting sacremoses\n",
            "  Downloading sacremoses-0.0.45-py3-none-any.whl (895 kB)\n",
            "\u001b[K     |████████████████████████████████| 895 kB 41.3 MB/s \n",
            "\u001b[?25hCollecting tokenizers<0.11,>=0.10.1\n",
            "  Downloading tokenizers-0.10.3-cp37-cp37m-manylinux_2_5_x86_64.manylinux1_x86_64.manylinux_2_12_x86_64.manylinux2010_x86_64.whl (3.3 MB)\n",
            "\u001b[K     |████████████████████████████████| 3.3 MB 32.4 MB/s \n",
            "\u001b[?25hCollecting huggingface-hub==0.0.12\n",
            "  Downloading huggingface_hub-0.0.12-py3-none-any.whl (37 kB)\n",
            "Requirement already satisfied: importlib-metadata in /usr/local/lib/python3.7/dist-packages (from transformers) (4.6.1)\n",
            "Requirement already satisfied: typing-extensions in /usr/local/lib/python3.7/dist-packages (from huggingface-hub==0.0.12->transformers) (3.7.4.3)\n",
            "Requirement already satisfied: pyparsing>=2.0.2 in /usr/local/lib/python3.7/dist-packages (from packaging->transformers) (2.4.7)\n",
            "Requirement already satisfied: zipp>=0.5 in /usr/local/lib/python3.7/dist-packages (from importlib-metadata->transformers) (3.5.0)\n",
            "Requirement already satisfied: chardet<4,>=3.0.2 in /usr/local/lib/python3.7/dist-packages (from requests->transformers) (3.0.4)\n",
            "Requirement already satisfied: urllib3!=1.25.0,!=1.25.1,<1.26,>=1.21.1 in /usr/local/lib/python3.7/dist-packages (from requests->transformers) (1.24.3)\n",
            "Requirement already satisfied: certifi>=2017.4.17 in /usr/local/lib/python3.7/dist-packages (from requests->transformers) (2021.5.30)\n",
            "Requirement already satisfied: idna<3,>=2.5 in /usr/local/lib/python3.7/dist-packages (from requests->transformers) (2.10)\n",
            "Requirement already satisfied: six in /usr/local/lib/python3.7/dist-packages (from sacremoses->transformers) (1.15.0)\n",
            "Requirement already satisfied: joblib in /usr/local/lib/python3.7/dist-packages (from sacremoses->transformers) (1.0.1)\n",
            "Requirement already satisfied: click in /usr/local/lib/python3.7/dist-packages (from sacremoses->transformers) (7.1.2)\n",
            "Installing collected packages: tokenizers, sacremoses, pyyaml, huggingface-hub, transformers\n",
            "  Attempting uninstall: pyyaml\n",
            "    Found existing installation: PyYAML 3.13\n",
            "    Uninstalling PyYAML-3.13:\n",
            "      Successfully uninstalled PyYAML-3.13\n",
            "Successfully installed huggingface-hub-0.0.12 pyyaml-5.4.1 sacremoses-0.0.45 tokenizers-0.10.3 transformers-4.9.2\n"
          ],
          "name": "stdout"
        }
      ]
    },
    {
      "cell_type": "code",
      "metadata": {
        "id": "XgkfabftPx0Q"
      },
      "source": [
        "import torch\n",
        "from torch import tensor\n",
        "from IPython.display import HTML"
      ],
      "execution_count": null,
      "outputs": []
    },
    {
      "cell_type": "code",
      "metadata": {
        "id": "ZP72k0QTPx-b",
        "colab": {
          "base_uri": "https://localhost:8080/",
          "height": 262,
          "referenced_widgets": [
            "8450bea1c6bf4123b46189e5807e9239",
            "0bbfb2fe680e473e8ac32954e72e3189",
            "bcae5428a4e34914bc95dcc907c00388",
            "429de0cef58c49b791e3a8809e6ea9d9",
            "780cd0808baf4825bbbd17b7867a70c5",
            "69d27460ea834b1b9262d0388760b980",
            "202611d3dbe34f648ef5087f7786d1da",
            "f5a87d5e441246e0a41fb522df26bf2e",
            "2c1e43ce49e64f21a7a638a255bc9f5b",
            "7398dcdeda944407b46def0ce4eedcad",
            "684d069800b94c7badcedd0e96c9de7f",
            "a09237b1caa541a296a55b9300d64699",
            "93212554971246da81c44286cdcb1ae2",
            "aeb166081c68479186c892c79949a689",
            "9c4a4825c34e4a95b58a843720966f1e",
            "93820ea2bf784f6495a2cba497750115",
            "0ac74ff979c74dbfa12792f945a8644f",
            "47b558a01b9741d6a0c8d1e3dd48537d",
            "8f9a5f79e63c41779c686357f038812a",
            "b191bb1f87fe49a09b1c9f4af385b9d6",
            "ac044b729c954fcaad55b4fbc2dd847b",
            "6f3c933fab194dc7883c0d626153bbce",
            "45f88e5726cf4fc6a647123f1c2e1f97",
            "8e1a03ce5b6e44e4a366867f1d039def",
            "9efc87678f5e42e3a7cd9eb4fd5ba29e",
            "ce1175571418400b82f2eeae00464d0f",
            "c9948836dedd433399941643072d7d42",
            "b9fe4b380a804678a0eedcf97d15a508",
            "3fa68bfaacc54c18a06ae1c8356bac0e",
            "40fb48208fbe46b2b79adec37b0ca80e",
            "e2a6991228824260bdb27297f6507146",
            "2a87397880a04c04baa10d9dac8ce96d",
            "00a647fc1bc344d8a072beab98b8222a",
            "d4bd5cb2a1a849208205ec3af2d4a733",
            "ed94c0f361f24982935f4e09cdf21f83",
            "ed2d7a60b2f54e3b9a6de7d121f8117c",
            "92589be415114399bcc7c2bb19182077",
            "f2856c233ca84a409f2e1bcf155474d2",
            "5606ef428eb04bbeb4db554d185db616",
            "679d64f705184494b5bcf85989e46a92"
          ]
        },
        "outputId": "fb710c94-ee97-456f-b8d7-6297b550b0c0"
      },
      "source": [
        "from transformers import AutoTokenizer, AutoModelForCausalLM\n",
        "tokenizer = AutoTokenizer.from_pretrained(\"distilgpt2\", add_prefix_space=True) # smaller version of GPT-2\n",
        "# Alternative to add_prefix_space is to use `is_split_into_words=True`\n",
        "# add the EOS token as PAD token to avoid warnings\n",
        "model = AutoModelForCausalLM.from_pretrained(\"distilgpt2\", pad_token_id=tokenizer.eos_token_id)"
      ],
      "execution_count": null,
      "outputs": [
        {
          "output_type": "display_data",
          "data": {
            "application/vnd.jupyter.widget-view+json": {
              "model_id": "8450bea1c6bf4123b46189e5807e9239",
              "version_minor": 0,
              "version_major": 2
            },
            "text/plain": [
              "HBox(children=(FloatProgress(value=0.0, description='Downloading', max=762.0, style=ProgressStyle(description_…"
            ]
          },
          "metadata": {
            "tags": []
          }
        },
        {
          "output_type": "stream",
          "text": [
            "\n"
          ],
          "name": "stdout"
        },
        {
          "output_type": "display_data",
          "data": {
            "application/vnd.jupyter.widget-view+json": {
              "model_id": "2c1e43ce49e64f21a7a638a255bc9f5b",
              "version_minor": 0,
              "version_major": 2
            },
            "text/plain": [
              "HBox(children=(FloatProgress(value=0.0, description='Downloading', max=1042301.0, style=ProgressStyle(descript…"
            ]
          },
          "metadata": {
            "tags": []
          }
        },
        {
          "output_type": "stream",
          "text": [
            "\n"
          ],
          "name": "stdout"
        },
        {
          "output_type": "display_data",
          "data": {
            "application/vnd.jupyter.widget-view+json": {
              "model_id": "0ac74ff979c74dbfa12792f945a8644f",
              "version_minor": 0,
              "version_major": 2
            },
            "text/plain": [
              "HBox(children=(FloatProgress(value=0.0, description='Downloading', max=456318.0, style=ProgressStyle(descripti…"
            ]
          },
          "metadata": {
            "tags": []
          }
        },
        {
          "output_type": "stream",
          "text": [
            "\n"
          ],
          "name": "stdout"
        },
        {
          "output_type": "display_data",
          "data": {
            "application/vnd.jupyter.widget-view+json": {
              "model_id": "9efc87678f5e42e3a7cd9eb4fd5ba29e",
              "version_minor": 0,
              "version_major": 2
            },
            "text/plain": [
              "HBox(children=(FloatProgress(value=0.0, description='Downloading', max=1355256.0, style=ProgressStyle(descript…"
            ]
          },
          "metadata": {
            "tags": []
          }
        },
        {
          "output_type": "stream",
          "text": [
            "\n"
          ],
          "name": "stdout"
        },
        {
          "output_type": "display_data",
          "data": {
            "application/vnd.jupyter.widget-view+json": {
              "model_id": "00a647fc1bc344d8a072beab98b8222a",
              "version_minor": 0,
              "version_major": 2
            },
            "text/plain": [
              "HBox(children=(FloatProgress(value=0.0, description='Downloading', max=352833716.0, style=ProgressStyle(descri…"
            ]
          },
          "metadata": {
            "tags": []
          }
        },
        {
          "output_type": "stream",
          "text": [
            "\n"
          ],
          "name": "stdout"
        }
      ]
    },
    {
      "cell_type": "code",
      "metadata": {
        "id": "Gl9xHEPKbB5W"
      },
      "source": [
        "def pred_words(phrase):\n",
        "  i = 0\n",
        "  j = 0\n",
        "  difficulty_list = []\n",
        "  htmlstring = phrase.split()[0]\n",
        "\n",
        "  phrase_token_ids = tokenizer.encode(phrase)\n",
        "  output = model.forward(tensor([phrase_token_ids]))\n",
        "  logit = output.logits[0]\n",
        "\n",
        "  # Generate tokesn for each word except for the first word in the phrase. Compare the actual word with the predicted words. \n",
        "  # If the actual word is one of the predicted words, append \"True\" to the list. If not, append \"False\" to the list.\n",
        "  while i < len(phrase.split()) - 1:\n",
        "    logits_for_next_token = logit[i]\n",
        "    # top 50,000 words\n",
        "    likely_token_indicies = logits_for_next_token.topk(50000).indices\n",
        "    predicted_words = tokenizer.decode(likely_token_indicies)\n",
        "    # top 20 words\n",
        "    top_predicted_words = predicted_words[:10]\n",
        "    # actual word\n",
        "    actual_word = phrase.split()[i + 1]\n",
        "\n",
        "    # classify words based on difficulty\n",
        "    if actual_word not in predicted_words:\n",
        "      difficulty_list.append(\"hard\")\n",
        "    elif actual_word in top_predicted_words:\n",
        "      difficulty_list.append(\"easy\")\n",
        "    else:\n",
        "      difficulty_list.append(\"neutral\")\n",
        "    i += 1\n",
        "  \n",
        "  # Look at the boolean list, and highlight the words based on difficulty\n",
        "  while j < len(phrase.split()) - 1:\n",
        "    if difficulty_list[j] == \"hard\":\n",
        "      htmlstring += \" \" + \"<span style=\\\"color: red;\\\">\" + phrase.split()[j + 1] + \"</span>\"\n",
        "    if difficulty_list[j] == \"easy\":\n",
        "      htmlstring += \" \" + \"<span style=\\\"color: blue;\\\">\" + phrase.split()[j + 1] + \"</span>\"\n",
        "    if difficulty_list[j] == \"neutral\":\n",
        "      htmlstring += \" \" + \"<span>\" + phrase.split()[j + 1] + \"</span>\"\n",
        "    j += 1\n",
        "\n",
        "  return htmlstring"
      ],
      "execution_count": null,
      "outputs": []
    },
    {
      "cell_type": "code",
      "metadata": {
        "id": "5hXHDseWDQ-B"
      },
      "source": [
        "raw_html = pred_words(\"To give you an idea of effective communication between businesses and customers, here are eight sample text messages to customers that will ensure you deliver value to each recipient.\")"
      ],
      "execution_count": null,
      "outputs": []
    },
    {
      "cell_type": "code",
      "metadata": {
        "colab": {
          "base_uri": "https://localhost:8080/",
          "height": 34
        },
        "id": "YN1vyiPqD9w5",
        "outputId": "2ee7a2e4-8b62-4067-b6cc-82bedb70fbdd"
      },
      "source": [
        "HTML(raw_html)"
      ],
      "execution_count": null,
      "outputs": [
        {
          "output_type": "execute_result",
          "data": {
            "text/html": [
              "To <span>give</span> <span style=\"color: blue;\">you</span> <span style=\"color: blue;\">an</span> <span style=\"color: blue;\">idea</span> <span style=\"color: blue;\">of</span> <span>effective</span> <span>communication</span> <span style=\"color: blue;\">between</span> <span>businesses</span> <span style=\"color: blue;\">and</span> <span style=\"color: red;\">customers,</span> <span>here</span> <span>are</span> <span>eight</span> <span>sample</span> <span>text</span> <span>messages</span> <span>to</span> <span>customers</span> <span>that</span> <span>will</span> <span>ensure</span> <span>you</span> <span>deliver</span> <span>value</span> <span>to</span> <span>each</span> <span style=\"color: red;\">recipient.</span>"
            ],
            "text/plain": [
              "<IPython.core.display.HTML object>"
            ]
          },
          "metadata": {
            "tags": []
          },
          "execution_count": 6
        }
      ]
    },
    {
      "cell_type": "markdown",
      "metadata": {
        "id": "_pFOXXn3C_Rp"
      },
      "source": [
        "# 7/23/2021 Fixed model\n",
        "\n"
      ]
    },
    {
      "cell_type": "code",
      "metadata": {
        "id": "Yz8nP82fAxxq"
      },
      "source": [
        "# Generate tokesn for each word except for the first word in the phrase. Compare the actual word with the predicted words. \n",
        "# If the actual word is one of the predicted words, append \"True\" to the list. If not, append \"False\" to the list.\n",
        "def get_word_difficulty(indecies, logit, ids_to_tokens):\n",
        "  difficulty_list = []\n",
        "  for i in indecies:\n",
        "      logits_for_next_token = logit[i]\n",
        "      # neutral-frequency\n",
        "      likely_token_indicies = logits_for_next_token.topk(2000).indices\n",
        "      predicted_words = tokenizer.decode(likely_token_indicies)\n",
        "      # high-frequency\n",
        "      top_predicted_words = predicted_words[:300]\n",
        "    \n",
        "      # classify words based on difficulty\n",
        "      if (ids_to_tokens[i]) not in predicted_words:\n",
        "        difficulty_list.append(\"hard\")\n",
        "      elif (ids_to_tokens[i]) in top_predicted_words:\n",
        "        difficulty_list.append(\"easy\")\n",
        "      else:\n",
        "        difficulty_list.append(\"neutral\")\n",
        "      \n",
        "      word_and_difficulty = zip(ids_to_tokens, difficulty_list)\n",
        "      word_and_difficulty = list(word_and_difficulty)\n",
        "      \n",
        "  return word_and_difficulty  "
      ],
      "execution_count": null,
      "outputs": []
    },
    {
      "cell_type": "code",
      "metadata": {
        "id": "IUVW5F5kHV0L"
      },
      "source": [
        "# Look at the boolean list, and highlight the words based on difficulty\n",
        "def get_htmlstring(word_and_difficulty):\n",
        "  j = 0\n",
        "  htmlstring = \"\"\n",
        "  for j in word_and_difficulty:\n",
        "    if j[1] == \"hard\":\n",
        "      htmlstring += \" \" + \"<span style=\\\"color: red;\\\">\" + j[0] + \"</span>\"\n",
        "    if j[1] == \"easy\":\n",
        "      htmlstring += \" \" + \"<span style=\\\"color: blue;\\\">\" + j[0] + \"</span>\"\n",
        "    if j[1] == \"neutral\":\n",
        "      htmlstring += \" \" + \"<span>\" + j[0] + \"</span>\"\n",
        "\n",
        "  return htmlstring"
      ],
      "execution_count": null,
      "outputs": []
    },
    {
      "cell_type": "code",
      "metadata": {
        "id": "L683-lReDD4c"
      },
      "source": [
        "# Highlight words based on difficulty.\n",
        "def pred_words_2(phrase):\n",
        "  phrase_token_ids = tokenizer.encode(phrase)\n",
        "  output = model.forward(tensor([phrase_token_ids]))\n",
        "  logit = output.logits[0]\n",
        "\n",
        "  # make a list of indices\n",
        "  indecies_list = list(enumerate(phrase_token_ids))\n",
        "  indecies = [i[0] for i in indecies_list]\n",
        "\n",
        "  # convert ids to tokens\n",
        "  ids_to_tokens = [token.replace('Ġ', ' ') for token in tokenizer.convert_ids_to_tokens(phrase_token_ids)]\n",
        "\n",
        "  # call functions\n",
        "  word_and_difficulty =  get_word_difficulty(indecies, logit, ids_to_tokens)\n",
        "  htmlstring = get_htmlstring(word_and_difficulty)\n",
        "\n",
        "  return htmlstring"
      ],
      "execution_count": null,
      "outputs": []
    },
    {
      "cell_type": "code",
      "metadata": {
        "id": "vmLjIMuCEDNI"
      },
      "source": [
        "raw_html_2 = pred_words_2(\"\"\"A small helicopter took off from the surface of Mars on April 19. It hovered about 3 meters (10 feet) above the Martian surface for approximately 30 seconds before touching back down. This was the first time humans have ever flown an aircraft on another planet. The helicopter, named Ingenuity, arrived on Mars in February 2021. It traveled to the red planet in the belly of NASA's Perseverance rover, which is a moving robot that will collect data, or information, about Mars.\"\"\")"
      ],
      "execution_count": null,
      "outputs": []
    },
    {
      "cell_type": "code",
      "metadata": {
        "colab": {
          "base_uri": "https://localhost:8080/",
          "height": 51
        },
        "id": "_XwECWJiEHUd",
        "outputId": "b4906d12-415c-4540-a32d-bbf0c3f3c87c"
      },
      "source": [
        "HTML(raw_html_2)"
      ],
      "execution_count": null,
      "outputs": [
        {
          "output_type": "execute_result",
          "data": {
            "text/html": [
              " <span style=\"color: blue;\"> A</span> <span> small</span> <span> helicopter</span> <span> took</span> <span style=\"color: blue;\"> off</span> <span> from</span> <span> the</span> <span> surface</span> <span> of</span> <span> Mars</span> <span style=\"color: blue;\"> on</span> <span> April</span> <span> 19</span> <span>.</span> <span style=\"color: red;\"> It</span> <span> h</span> <span>overed</span> <span style=\"color: blue;\"> about</span> <span> 3</span> <span> meters</span> <span> (</span> <span>10</span> <span> feet</span> <span>)</span> <span> above</span> <span> the</span> <span style=\"color: blue;\"> Martian</span> <span> surface</span> <span> for</span> <span> approximately</span> <span> 30</span> <span> seconds</span> <span> before</span> <span> touching</span> <span style=\"color: blue;\"> back</span> <span style=\"color: blue;\"> down</span> <span>.</span> <span style=\"color: red;\"> This</span> <span> was</span> <span> the</span> <span> first</span> <span> time</span> <span> humans</span> <span> have</span> <span> ever</span> <span> flown</span> <span style=\"color: blue;\"> an</span> <span> aircraft</span> <span style=\"color: blue;\"> on</span> <span> another</span> <span> planet</span> <span>.</span> <span> The</span> <span> helicopter</span> <span>,</span> <span> named</span> <span> In</span> <span>gen</span> <span style=\"color: red;\">uity</span> <span>,</span> <span> arrived</span> <span style=\"color: blue;\"> on</span> <span> Mars</span> <span> in</span> <span> February</span> <span style=\"color: red;\"> 2021</span> <span>.</span> <span style=\"color: red;\"> It</span> <span> traveled</span> <span> to</span> <span> the</span> <span> red</span> <span> planet</span> <span> in</span> <span> the</span> <span> belly</span> <span> of</span> <span> NASA</span> <span>'s</span> <span> Per</span> <span style=\"color: red;\">sever</span> <span>ance</span> <span style=\"color: blue;\"> rover</span> <span>,</span> <span> which</span> <span> is</span> <span> a</span> <span> moving</span> <span> robot</span> <span> that</span> <span> will</span> <span> collect</span> <span> data</span> <span>,</span> <span> or</span> <span> information</span> <span>,</span> <span> about</span> <span> Mars</span> <span>.</span>"
            ],
            "text/plain": [
              "<IPython.core.display.HTML object>"
            ]
          },
          "metadata": {
            "tags": []
          },
          "execution_count": 415
        }
      ]
    },
    {
      "cell_type": "markdown",
      "metadata": {
        "id": "e6ZG5Uh5A3nM"
      },
      "source": [
        "# Restricted Model"
      ]
    },
    {
      "cell_type": "markdown",
      "metadata": {
        "id": "ubGhfLVkBGyV"
      },
      "source": [
        "Model that sees only two previous tokens."
      ]
    },
    {
      "cell_type": "code",
      "metadata": {
        "id": "3P3xjOi2Q-Nn"
      },
      "source": [
        "# For the last word in the sets of two or three words, add the difficulty of the last word.\n",
        "def get_restricted_htmlstring(word_and_difficulty, phrase):\n",
        "  htmlstring = \"\"\n",
        "  for index, item in enumerate(word_and_difficulty):\n",
        "    if index == len(list(enumerate(word_and_difficulty))) - 1:\n",
        "      if item[1] == \"hard\":\n",
        "        htmlstring += \" \" + \"<span style=\\\"color: red;\\\">\" + item[0] + \"</span>\"\n",
        "      if item[1] == \"easy\":\n",
        "        htmlstring += \" \" + \"<span style=\\\"color: blue;\\\">\" + item[0] + \"</span>\"\n",
        "      if item[1] == \"neutral\":\n",
        "        htmlstring += \" \" + \"<span>\" + item[0] + \"</span>\"\n",
        "\n",
        "  return htmlstring"
      ],
      "execution_count": null,
      "outputs": []
    },
    {
      "cell_type": "code",
      "metadata": {
        "id": "VwxLUwi7BBw4"
      },
      "source": [
        "# Highlight words based on difficulty.\n",
        "def pred_words_3(phrase):\n",
        "  phrase_token_ids = tokenizer.encode(phrase)\n",
        "  output = model.forward(tensor([phrase_token_ids]))\n",
        "  logit = output.logits[0]\n",
        "\n",
        "  # make a list of indices\n",
        "  indecies_list = list(enumerate(phrase_token_ids))\n",
        "  indecies = [i[0] for i in indecies_list]\n",
        "\n",
        "  # convert ids to tokens\n",
        "  ids_to_tokens = [token.replace('Ġ', '') for token in tokenizer.convert_ids_to_tokens(phrase_token_ids)]\n",
        "  \n",
        "  # call functions\n",
        "  word_and_difficulty =  get_word_difficulty(indecies, logit, ids_to_tokens)\n",
        "  htmlstring = get_restricted_htmlstring(word_and_difficulty, phrase)\n",
        "\n",
        "  return htmlstring"
      ],
      "execution_count": null,
      "outputs": []
    },
    {
      "cell_type": "code",
      "metadata": {
        "id": "8CSf5GBsVXWj"
      },
      "source": [
        "import re\n",
        "\n",
        "# slice the input by space and punctuations\n",
        "phrase = \"\"\"A small helicopter took off from the surface of Mars on April 19..\"\"\"\n",
        "\n",
        "phrase_token_ids = tokenizer.encode(phrase)\n",
        "ids_to_tokens = [token.replace('Ġ', ' ' ) for token in tokenizer.convert_ids_to_tokens(phrase_token_ids)]\n",
        "\n",
        "# string including the first word of the input\n",
        "restricted_htmlstring = ids_to_tokens[0] + \" \"\n",
        "\n",
        "for i in range(1, len(ids_to_tokens)):\n",
        "  if i  < 2:\n",
        "   sliced_texts = ''.join(ids_to_tokens[i-1:i+1])\n",
        "  else:\n",
        "   sliced_texts = ''.join(ids_to_tokens[i-2:i+1])\n",
        "  i += 1\n",
        "  html_for_last_word = pred_words_3(sliced_texts)\n",
        "  restricted_htmlstring += html_for_last_word"
      ],
      "execution_count": null,
      "outputs": []
    },
    {
      "cell_type": "code",
      "metadata": {
        "id": "4vf0U6b92Ld9",
        "colab": {
          "base_uri": "https://localhost:8080/",
          "height": 34
        },
        "outputId": "fab8dbc4-b081-4456-8b8c-8d1344e65840"
      },
      "source": [
        "# result of the restricted model that can only see the previous two tokens\n",
        "HTML(restricted_htmlstring)"
      ],
      "execution_count": null,
      "outputs": [
        {
          "output_type": "execute_result",
          "data": {
            "text/html": [
              " A  <span>small</span> <span>helicopter</span> <span>took</span> <span style=\"color: blue;\">off</span> <span>from</span> <span style=\"color: blue;\">the</span> <span style=\"color: blue;\">surface</span> <span>of</span> <span style=\"color: blue;\">Mars</span> <span style=\"color: blue;\">on</span> <span>April</span> <span style=\"color: blue;\">19</span> <span>..</span>"
            ],
            "text/plain": [
              "<IPython.core.display.HTML object>"
            ]
          },
          "metadata": {
            "tags": []
          },
          "execution_count": 410
        }
      ]
    },
    {
      "cell_type": "code",
      "metadata": {
        "colab": {
          "base_uri": "https://localhost:8080/",
          "height": 340
        },
        "id": "TL2svuqviZyb",
        "outputId": "de080908-872b-498d-b504-2e82e504e024"
      },
      "source": [
        "# result of the unrestricted model\n",
        "HTML(raw_html_2)"
      ],
      "execution_count": null,
      "outputs": [
        {
          "output_type": "execute_result",
          "data": {
            "text/html": [
              " <span style=\"color: blue;\"> A</span> <span> small</span> <span> helicopter</span> <span> took</span> <span style=\"color: blue;\"> off</span> <span> from</span> <span> the</span> <span> surface</span> <span> of</span> <span> Mars</span> <span style=\"color: blue;\"> on</span> <span> April</span> <span> 19</span> <span>.</span> <span style=\"color: red;\"> It</span> <span> h</span> <span>overed</span> <span style=\"color: blue;\"> about</span> <span> 3</span> <span> meters</span> <span> (</span> <span>10</span> <span> feet</span> <span>)</span> <span> above</span> <span> the</span> <span style=\"color: blue;\"> Martian</span> <span> surface</span> <span> for</span> <span> approximately</span> <span> 30</span> <span> seconds</span> <span> before</span> <span> touching</span> <span style=\"color: blue;\"> back</span> <span style=\"color: blue;\"> down</span> <span>.</span> <span style=\"color: red;\"> This</span> <span> was</span> <span> the</span> <span> first</span> <span> time</span> <span> humans</span> <span> have</span> <span> ever</span> <span> flown</span> <span style=\"color: blue;\"> an</span> <span> aircraft</span> <span style=\"color: blue;\"> on</span> <span> another</span> <span> planet</span> <span>.</span> <span> The</span> <span> helicopter</span> <span>,</span> <span> named</span> <span> In</span> <span>gen</span> <span style=\"color: red;\">uity</span> <span>,</span> <span> arrived</span> <span style=\"color: blue;\"> on</span> <span> Mars</span> <span> in</span> <span> February</span> <span style=\"color: red;\"> 2021</span> <span>.</span> <span style=\"color: red;\"> It</span> <span> traveled</span> <span> to</span> <span> the</span> <span> red</span> <span> planet</span> <span> in</span> <span> the</span> <span> belly</span> <span> of</span> <span> NASA</span> <span>'s</span> <span> Per</span> <span style=\"color: red;\">sever</span> <span>ance</span> <span style=\"color: blue;\"> rover</span> <span>,</span> <span> which</span> <span> is</span> <span> a</span> <span> moving</span> <span> robot</span> <span> that</span> <span> will</span> <span> collect</span> <span> data</span> <span>,</span> <span> or</span> <span> information</span> <span>,</span> <span> about</span> <span> Mars</span> <span>.</span> <span style=\"color: red;\"> Scientists</span> <span> will</span> <span> be</span> <span> able</span> <span> to</span> <span> then</span> <span> use</span> <span> this</span> <span style=\"color: blue;\"> data</span> <span> to</span> <span> learn</span> <span style=\"color: blue;\"> more</span> <span> about</span> <span> the</span> <span style=\"color: blue;\"> history</span> <span> of</span> <span style=\"color: blue;\"> Mars</span> <span> and</span> <span> how</span> <span> humans</span> <span> might</span> <span> continue</span> <span> to</span> <span> explore</span> <span> the</span> <span> planet</span> <span> in</span> <span> the</span> <span> coming</span> <span> years</span> <span>.</span> <span> Mars</span> <span> is</span> <span style=\"color: red;\"> nicknamed</span> <span> the</span> <span style=\"color: blue;\"> red</span> <span style=\"color: blue;\"> planet</span> <span> because</span> <span> its</span> <span> soil</span> <span style=\"color: red;\"> looks</span> <span style=\"color: blue;\"> redd</span> <span style=\"color: blue;\">ish</span> <span> like</span> <span> rust</span> <span>.</span> <span style=\"color: red;\"> Humans</span> <span> have</span> <span> been</span> <span> sending</span> <span> robots</span> <span> to</span> <span> Mars</span> <span> for</span> <span style=\"color: blue;\"> more</span> <span> than</span> <span> 40</span> <span> years</span> <span>,</span> <span> beginning</span> <span> first</span> <span> with</span> <span> the</span> <span style=\"color: blue;\"> Viking</span> <span style=\"color: blue;\"> 1</span> <span> and</span> <span> 2</span> <span style=\"color: blue;\"> land</span> <span>ers</span> <span> that</span> <span> arrived</span> <span> in</span> <span style=\"color: red;\"> 1976</span> <span>.</span> <span style=\"color: red;\"> Early</span> <span style=\"color: red;\"> robots</span> <span> like</span> <span> the</span> <span style=\"color: blue;\"> Viking</span> <span> land</span> <span>ers</span> <span> couldn</span> <span>'t</span> <span> move</span> <span>,</span> <span> but</span> <span style=\"color: blue;\"> later</span> <span style=\"color: blue;\"> ro</span> <span>vers</span> <span> like</span> <span> So</span> <span style=\"color: blue;\">j</span> <span>our</span> <span>ner</span> <span style=\"color: red;\">,</span> <span style=\"color: blue;\"> Spirit</span> <span>,</span> <span> Opportunity</span> <span>,</span> <span style=\"color: blue;\"> Curiosity</span> <span>,</span> <span> and</span> <span style=\"color: red;\"> Per</span> <span>sever</span> <span>ance</span> <span> have</span> <span> been</span> <span> able</span> <span> to</span> <span style=\"color: blue;\"> motor</span> <span style=\"color: blue;\"> around</span> <span> the</span> <span style=\"color: blue;\"> red</span> <span> planet</span> <span>.</span> <span> Since</span> <span style=\"color: red;\"> Per</span> <span>sever</span> <span>ance</span> <span> landed</span> <span> in</span> <span> February</span> <span>--</span> <span>you</span> <span> can</span> <span> watch</span> <span> a</span> <span style=\"color: blue;\"> video</span> <span> about</span> <span> the</span> <span> landing</span> <span style=\"color: blue;\"> here</span> <span>--</span> <span>it</span> <span> has</span> <span> taken</span> <span> pictures</span> <span> and</span> <span> recorded</span> <span> sound</span> <span> of</span> <span> the</span> <span style=\"color: blue;\"> Mars</span> <span> environment</span> <span>.</span> <span> The</span> <span> rover</span> <span> landed</span> <span> in</span> <span> the</span> <span> Je</span> <span>zero</span> <span> Cr</span> <span style=\"color: blue;\">ater</span> <span>,</span> <span> which</span> <span> was</span> <span style=\"color: blue;\"> full</span> <span> of</span> <span style=\"color: blue;\"> water</span> <span> billions</span> <span> of</span> <span style=\"color: blue;\"> years</span> <span> ago</span> <span>.</span> <span style=\"color: red;\"> Then</span> <span>,</span> <span style=\"color: red;\"> with</span> <span> the</span> <span style=\"color: blue;\"> help</span> <span> of</span> <span> scientists</span> <span> and</span> <span> engineers</span> <span style=\"color: blue;\"> back</span> <span> at</span> <span style=\"color: blue;\"> NASA</span> <span>,</span> <span> it</span> <span style=\"color: red;\"> worked</span> <span> to</span> <span> find</span> <span> a</span> <span style=\"color: blue;\"> suitable</span> <span style=\"color: blue;\"> flat</span> <span style=\"color: red;\">,</span> <span style=\"color: blue;\"> open</span> <span> area</span> <span style=\"color: blue;\"> about</span> <span> 10</span> <span> meters</span> <span style=\"color: blue;\"> long</span> <span> and</span> <span> 10</span> <span> meters</span> <span> wide</span> <span> (</span> <span>33</span> <span> feet</span> <span style=\"color: blue;\"> long</span> <span> by</span> <span> 33</span> <span style=\"color: blue;\"> feet</span> <span> wide</span> <span style=\"color: red;\">)</span> <span> for</span> <span> the</span> <span style=\"color: blue;\"> helicopter</span> <span style=\"color: blue;\"> to</span> <span> take</span> <span> its</span> <span> first</span> <span style=\"color: blue;\"> test</span> <span> flight</span> <span>.</span> <span style=\"color: red;\"> Getting</span> <span style=\"color: blue;\"> In</span> <span>gen</span> <span style=\"color: red;\">uity</span> <span> into</span> <span> the</span> <span> air</span> <span> required</span> <span> a</span> <span style=\"color: blue;\"> number</span> <span> of</span> <span> steps</span> <span> to</span> <span> be</span> <span> completed</span> <span>.</span> <span> First</span> <span>,</span> <span> it</span> <span style=\"color: blue;\"> had</span> <span> to</span> <span> get</span> <span> enough</span> <span style=\"color: blue;\"> power</span> <span> from</span> <span> the</span> <span> sun</span> <span> to</span> <span> charge</span> <span> its</span> <span style=\"color: blue;\"> lithium</span> <span>-</span> <span style=\"color: blue;\">ion</span> <span> batteries</span> <span>.</span> <span style=\"color: red;\"> Then</span> <span>,</span> <span> the</span> <span> helicopter</span> <span style=\"color: blue;\"> had</span> <span> to</span> <span> detach</span> <span> from</span> <span> the</span> <span> belly</span> <span> of</span> <span style=\"color: red;\"> Per</span> <span>sever</span> <span>ance</span> <span>,</span> <span> snap</span> <span> its</span> <span> four</span> <span> legs</span> <span> into</span> <span> place</span> <span>,</span> <span> and</span> <span> hover</span> <span style=\"color: blue;\"> about</span> <span> 13</span> <span> centimeters</span> <span> (</span> <span>5</span> <span> inches</span> <span style=\"color: red;\">)</span> <span> above</span> <span> the</span> <span style=\"color: blue;\"> surface</span> <span> of</span> <span> Mars</span> <span>.</span> <span> In</span> <span> addition</span> <span>,</span> <span style=\"color: red;\"> Per</span> <span>sever</span> <span>ance</span> <span style=\"color: blue;\"> had</span> <span> to</span> <span> move</span> <span style=\"color: blue;\"> about</span> <span> 5</span> <span> meters</span> <span> (</span> <span>16</span> <span> feet</span> <span>)</span> <span style=\"color: blue;\"> away</span> <span>,</span> <span> to</span> <span> test</span> <span> whether</span> <span> the</span> <span> helicopter</span> <span> and</span> <span style=\"color: red;\"> rover</span> <span> could</span> <span> communicate</span> <span> with</span> <span style=\"color: blue;\"> each</span> <span> other</span> <span>.</span> <span style=\"color: red;\"> This</span> <span> process</span> <span> was</span> <span> scheduled</span> <span> to</span> <span> happen</span> <span> over</span> <span> the</span> <span style=\"color: blue;\"> course</span> <span> of</span> <span> six</span> <span> solar</span> <span> days</span> <span>,</span> <span> but</span> <span> the</span> <span> original</span> <span> flight</span> <span> date</span> <span> was</span> <span> delayed</span> <span style=\"color: blue;\"> due</span> <span> to</span> <span> a</span> <span> glitch</span> <span> in</span> <span> the</span> <span> helicopter</span> <span>'s</span> <span> flight</span> <span style=\"color: blue;\"> control</span> <span style=\"color: blue;\"> software</span> <span>.</span> <span> A</span> <span> solar</span> <span> day</span> <span>,</span> <span> or</span> <span> sol</span> <span>,</span> <span> is</span> <span> how</span> <span> long</span> <span> a</span> <span> day</span> <span> lasts</span> <span style=\"color: blue;\"> on</span> <span> Mars</span> <span>.</span> <span style=\"color: blue;\"> Sol</span> <span style=\"color: blue;\">s</span> <span> are</span> <span style=\"color: blue;\"> about</span> <span> 24</span> <span> hours</span> <span> and</span> <span> 40</span> <span> minutes</span> <span>,</span> <span style=\"color: red;\"> whereas</span> <span> Earth</span> <span> days</span> <span> are</span> <span> 24</span> <span> hours</span> <span>.</span> <span> The</span> <span> science</span> <span> and</span> <span> engineering</span> <span> work</span> <span style=\"color: blue;\"> required</span> <span> to</span> <span> complete</span> <span> this</span> <span> flight</span> <span> was</span> <span style=\"color: blue;\"> years</span> <span style=\"color: blue;\"> in</span> <span style=\"color: blue;\"> the</span> <span> making</span> <span>.</span> <span> \"</span> <span style=\"color: red;\">Ing</span> <span style=\"color: blue;\">en</span> <span style=\"color: red;\">uity</span> <span> is</span> <span style=\"color: blue;\"> an</span> <span> experimental</span> <span> engineering</span> <span> flight</span> <span> test</span> <span style=\"color: red;\">,\"</span> <span> Mi</span> <span style=\"color: blue;\">Mi</span> <span> A</span> <span>ung</span> <span style=\"color: red;\"> told</span> <span> NASA</span> <span>.</span> <span style=\"color: red;\"> She</span> <span> is</span> <span> a</span> <span style=\"color: blue;\"> project</span> <span> manager</span> <span> for</span> <span> In</span> <span>gen</span> <span style=\"color: red;\">uity</span> <span style=\"color: blue;\"> Mars</span> <span> Helic</span> <span>opter</span> <span> at</span> <span style=\"color: blue;\"> NASA</span> <span>'s</span> <span style=\"color: blue;\"> Jet</span> <span style=\"color: blue;\"> Prop</span> <span>ulsion</span> <span style=\"color: blue;\"> Laboratory</span> <span> in</span> <span style=\"color: blue;\"> California</span> <span>.</span> <span style=\"color: red;\"> \"</span> <span style=\"color: red;\">We</span> <span style=\"color: red;\"> wanted</span> <span> to</span> <span> see</span> <span style=\"color: blue;\"> if</span> <span style=\"color: blue;\"> we</span> <span> could</span> <span> fly</span> <span style=\"color: blue;\"> on</span> <span> Mars</span> <span style=\"color: red;\">,\"</span> <span> she</span> <span> said</span> <span>.</span> <span style=\"color: red;\"> \"</span> <span style=\"color: red;\">We</span> <span> have</span> <span> been</span> <span> thinking</span> <span> for</span> <span style=\"color: blue;\"> so</span> <span> long</span> <span> about</span> <span> having</span> <span> our</span> <span style=\"color: blue;\"> Wright</span> <span> brothers</span> <span> moment</span> <span style=\"color: blue;\"> on</span> <span> Mars</span> <span>,</span> <span> and</span> <span> here</span> <span> it</span> <span> is</span> <span style=\"color: red;\">,\"</span> <span> A</span> <span>ung</span> <span> said</span> <span>.</span> <span> In</span> <span> fact</span> <span>,</span> <span> In</span> <span>gen</span> <span style=\"color: red;\">uity</span> <span style=\"color: red;\"> contains</span> <span> a</span> <span> tiny</span> <span> piece</span> <span> of</span> <span> fabric</span> <span> from</span> <span> the</span> <span style=\"color: blue;\"> Wright</span> <span style=\"color: blue;\"> brothers</span> <span>'</span> <span> famous</span> <span> Fly</span> <span style=\"color: blue;\">er</span> <span> 1</span> <span> plane</span> <span style=\"color: red;\"> (</span> <span>you</span> <span> can</span> <span> read</span> <span style=\"color: blue;\"> more</span> <span> about</span> <span> this</span> <span> story</span> <span style=\"color: blue;\"> here</span> <span style=\"color: red;\">).</span> <span> Flying</span> <span style=\"color: blue;\"> on</span> <span> Mars</span> <span style=\"color: red;\"> presents</span> <span> new</span> <span> challenges</span> <span>.</span> <span> The</span> <span> atmosphere</span> <span style=\"color: blue;\"> on</span> <span> Mars</span> <span> is</span> <span> 99</span> <span style=\"color: red;\"> percent</span> <span> less</span> <span> dense</span> <span> than</span> <span style=\"color: blue;\"> Earth</span> <span>'s</span> <span>,</span> <span style=\"color: blue;\"> making</span> <span> it</span> <span> more</span> <span> difficult</span> <span> for</span> <span> the</span> <span> helicopter</span> <span style=\"color: blue;\"> to</span> <span style=\"color: red;\"> achieve</span> <span> lift</span> <span>.</span> <span> Getting</span> <span> In</span> <span>gen</span> <span style=\"color: red;\">uity</span> <span style=\"color: blue;\"> to</span> <span> fly</span> <span style=\"color: blue;\"> on</span> <span> Mars</span> <span> is</span> <span> quite</span> <span> an</span> <span> achievement</span> <span>,</span> <span> given</span> <span> the</span> <span> considerable</span> <span> differences</span> <span> in</span> <span> the</span> <span> environment</span> <span style=\"color: blue;\"> on</span> <span> Mars</span> <span style=\"color: blue;\"> compared</span> <span> with</span> <span style=\"color: blue;\"> Earth</span> <span>.</span> <span style=\"color: blue;\"> For</span> <span> example</span> <span>,</span> <span> the</span> <span> red</span> <span> planet</span> <span> experiences</span> <span> intense</span> <span style=\"color: blue;\"> dust</span> <span> storms</span> <span> and</span> <span style=\"color: red;\"> receives</span> <span> only</span> <span style=\"color: blue;\"> about</span> <span style=\"color: blue;\"> half</span> <span> the</span> <span> solar</span> <span> energy</span> <span> from</span> <span> the</span> <span> sun</span> <span> than</span> <span style=\"color: blue;\"> Earth</span> <span> does</span> <span>.</span> <span style=\"color: red;\"> Also</span> <span>,</span> <span> nighttime</span> <span> temperatures</span> <span style=\"color: blue;\"> near</span> <span> the</span> <span> rover</span> <span> can</span> <span> go</span> <span style=\"color: blue;\"> as</span> <span> low</span> <span> as</span> <span> 90</span> <span style=\"color: blue;\"> degrees</span> <span style=\"color: blue;\"> Celsius</span> <span> below</span> <span> zero</span> <span style=\"color: red;\"> (</span> <span style=\"color: red;\">130</span> <span style=\"color: blue;\"> degrees</span> <span style=\"color: blue;\"> Fahrenheit</span> <span> below</span> <span style=\"color: blue;\"> zero</span> <span style=\"color: red;\">),</span> <span style=\"color: red;\"> threatening</span> <span> to</span> <span> crack</span> <span> some</span> <span> of</span> <span> the</span> <span> material</span> <span> that</span> <span> the</span> <span> helicopter</span> <span> is</span> <span> made</span> <span style=\"color: blue;\"> of</span> <span>.</span> <span style=\"color: red;\"> Then</span> <span> there</span> <span> is</span> <span style=\"color: blue;\"> the</span> <span> question</span> <span> of</span> <span> how</span> <span> to</span> <span> balance</span> <span> the</span> <span> four</span> <span> forces</span> <span>--</span> <span>lift</span> <span>,</span> <span style=\"color: blue;\"> thrust</span> <span>,</span> <span style=\"color: blue;\"> drag</span> <span>,</span> <span> and</span> <span style=\"color: blue;\"> weight</span> <span>--</span> <span>needed</span> <span> to</span> <span> get</span> <span style=\"color: blue;\"> an</span> <span> aircraft</span> <span> to</span> <span> fly</span> <span>.</span> <span> Lift</span> <span> is</span> <span> a</span> <span style=\"color: blue;\"> mechanical</span> <span> force</span> <span> that</span> <span> holds</span> <span style=\"color: blue;\"> an</span> <span> aircraft</span> <span> in</span> <span> the</span> <span> air</span> <span> by</span> <span> directly</span> <span style=\"color: blue;\"> opposing</span> <span> its</span> <span style=\"color: blue;\"> weight</span> <span>.</span> <span style=\"color: red;\"> Lift</span> <span> is</span> <span> created</span> <span> when</span> <span> the</span> <span> blades</span> <span> of</span> <span style=\"color: blue;\"> a</span> <span> helicopter</span> <span> move</span> <span> through</span> <span> the</span> <span> air</span> <span>.</span> <span> In</span> <span> order</span> <span> to</span> <span> fly</span> <span>,</span> <span> this</span> <span> upward</span> <span style=\"color: blue;\"> force</span> <span> must</span> <span> be</span> <span> larger</span> <span> than</span> <span> the</span> <span style=\"color: blue;\"> weight</span> <span> of</span> <span> the</span> <span> helicopter</span> <span>.</span> <span> On</span> <span style=\"color: blue;\"> Mars</span> <span>,</span> <span> these</span> <span> forces</span> <span style=\"color: red;\"> are</span> <span> different</span> <span> than</span> <span> they</span> <span> are</span> <span style=\"color: blue;\"> on</span> <span> Earth</span> <span>.</span> <span style=\"color: blue;\"> For</span> <span> one</span> <span>,</span> <span> Mars</span> <span> has</span> <span> less</span> <span> gravity</span> <span> than</span> <span style=\"color: blue;\"> Earth</span> <span>.</span> <span> So</span> <span> it</span> <span> might</span> <span> seem</span> <span style=\"color: blue;\"> like</span> <span> it</span> <span> would</span> <span style=\"color: blue;\"> be</span> <span> easier</span> <span> to</span> <span> fly</span> <span style=\"color: blue;\"> on</span> <span> Mars</span> <span>.</span> <span> But</span> <span> there</span> <span> is</span> <span> a</span> <span> catch</span> <span>--</span> <span>the</span> <span> atmosphere</span> <span style=\"color: blue;\"> on</span> <span> Mars</span> <span> is</span> <span style=\"color: blue;\"> about</span> <span> 99</span> <span> percent</span> <span> less</span> <span> dense</span> <span> than</span> <span> the</span> <span> atmosphere</span> <span style=\"color: blue;\"> on</span> <span> Earth</span> <span>.</span> <span> D</span> <span>ensity</span> <span> measures</span> <span> how</span> <span style=\"color: blue;\"> tightly</span> <span> packed</span> <span> particles</span> <span> are</span> <span>,</span> <span> and</span> <span style=\"color: blue;\"> an</span> <span> atmosphere</span> <span> is</span> <span> a</span> <span style=\"color: blue;\"> layer</span> <span> of</span> <span> gases</span> <span> that</span> <span style=\"color: red;\"> surrounds</span> <span> a</span> <span> planet</span> <span>.</span> <span style=\"color: red;\"> This</span> <span> means</span> <span> that</span> <span> the</span> <span> air</span> <span style=\"color: blue;\"> on</span> <span> Mars</span> <span> is</span> <span> extremely</span> <span style=\"color: red;\"> \"</span> <span style=\"color: blue;\">thin</span> <span style=\"color: red;\">,\"</span> <span style=\"color: blue;\"> so</span> <span> a</span> <span> helicopter</span> <span> has</span> <span> a</span> <span> more</span> <span> difficult</span> <span> time</span> <span> achieving</span> <span> lift</span> <span>.</span> <span> To</span> <span> overcome</span> <span> these</span> <span> factors</span> <span>,</span> <span> the</span> <span> helicopter</span> <span> was</span> <span> designed</span> <span> to</span> <span> be</span> <span> small</span> <span> and</span> <span> light</span> <span>.</span> <span> In</span> <span>gen</span> <span style=\"color: red;\">uity</span> <span style=\"color: red;\"> weighs</span> <span style=\"color: blue;\"> 1</span> <span>.</span> <span>8</span> <span> kilograms</span> <span> (</span> <span style=\"color: blue;\">4</span> <span style=\"color: blue;\"> pounds</span> <span>)</span> <span> and</span> <span> its</span> <span> two</span> <span> helicopter</span> <span> blades</span> <span> spin</span> <span> 2</span> <span>,</span> <span>500</span> <span> times</span> <span> a</span> <span> minute</span> <span>--</span> <span style=\"color: blue;\">a</span> <span> speed</span> <span> that</span> <span style=\"color: red;\"> helps</span> <span> the</span> <span> aircraft</span> <span> achieve</span> <span> lift</span> <span> and</span> <span> get</span> <span> off</span> <span> the</span> <span> ground</span> <span>.</span> <span style=\"color: red;\"> This</span> <span> is</span> <span> five</span> <span> times</span> <span> faster</span> <span> than</span> <span> it</span> <span style=\"color: blue;\"> would</span> <span> need</span> <span style=\"color: blue;\"> to</span> <span> spin</span> <span style=\"color: blue;\"> on</span> <span> Earth</span> <span>.</span> <span> And</span> <span> while</span> <span> this</span> <span> may</span> <span> have</span> <span> been</span> <span> the</span> <span> first</span> <span style=\"color: blue;\"> flight</span> <span>,</span> <span> it</span> <span> is</span> <span> not</span> <span> meant</span> <span> to</span> <span> be</span> <span> the</span> <span> last</span> <span>.</span> <span> In</span> <span> total</span> <span>,</span> <span> In</span> <span>gen</span> <span style=\"color: red;\">uity</span> <span> is</span> <span> expected</span> <span> to</span> <span> make</span> <span style=\"color: blue;\"> up</span> <span> to</span> <span> five</span> <span> flights</span> <span> while</span> <span style=\"color: blue;\"> on</span> <span> Mars</span> <span>.</span>"
            ],
            "text/plain": [
              "<IPython.core.display.HTML object>"
            ]
          },
          "metadata": {
            "tags": []
          },
          "execution_count": 329
        }
      ]
    },
    {
      "cell_type": "markdown",
      "metadata": {
        "id": "gReTXnA3kr9G"
      },
      "source": [
        "# Model Comparison (Works in Progress)"
      ]
    },
    {
      "cell_type": "code",
      "metadata": {
        "id": "8SMZqjCgnLnO"
      },
      "source": [
        "# http://stephantul.github.io/python/pytorch/2020/09/18/fast_topk/\n",
        "\n",
        "def get_top_k(x, indices):\n",
        "   vals = x[range(len(x)), indices]\n",
        "   return (x > vals[:, None]).long().sum(1)"
      ],
      "execution_count": null,
      "outputs": []
    },
    {
      "cell_type": "code",
      "metadata": {
        "id": "U_YC6zJqTO6U"
      },
      "source": [
        "torch.manual_seed(44)\n",
        "probas = torch.rand(32, 50000)\n",
        "probas /= probas.sum(1)[:, None]\n",
        "targets = torch.randint(0, 50000, (32,))"
      ],
      "execution_count": null,
      "outputs": []
    }
  ]
}